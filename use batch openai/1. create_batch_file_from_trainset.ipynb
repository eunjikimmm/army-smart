{
 "cells": [
  {
   "cell_type": "code",
   "execution_count": 1,
   "metadata": {},
   "outputs": [],
   "source": [
    "import jsonlines\n",
    "import pandas as pd\n",
    "\n",
    "import requests\n",
    "import json\n",
    "import time\n",
    "import pandas as pd\n",
    "from tqdm import tqdm\n",
    "import os  # os 모듈 추가|\n"
   ]
  },
  {
   "cell_type": "code",
   "execution_count": 2,
   "metadata": {},
   "outputs": [],
   "source": [
    "input_folder = '../국방부훈령QA생성_llm_train'\n",
    "input_files = [os.path.join(input_folder, file) for file in os.listdir(input_folder) if file.endswith('.jsonl')]"
   ]
  },
  {
   "cell_type": "code",
   "execution_count": 3,
   "metadata": {},
   "outputs": [
    {
     "data": {
      "text/plain": [
       "'../국방부훈령QA생성_llm_train/5ㆍ18 민주화운동 진상규명조사위원회 설립준비단 설치 및 운영에 관한 규정.jsonl'"
      ]
     },
     "execution_count": 3,
     "metadata": {},
     "output_type": "execute_result"
    }
   ],
   "source": [
    "input_files[1]"
   ]
  },
  {
   "cell_type": "code",
   "execution_count": 4,
   "metadata": {},
   "outputs": [],
   "source": [
    "\n",
    "## system prompt와 model 정의\n",
    "model = 'gpt-4o'\n",
    "\n",
    "system_prompt = '''\n",
    "## 역할\n",
    "너는 규정에 대한 질의를 할 수 있는 질문생성기야. 대한민국 군인이라 생각하고 제공하는 조항에 대해 질문을 할 수 있어야 해. 그리고 그 질문에 대해 명확한 답변을 제공할 수 있어야 한다.\n",
    "\n",
    "## 지시\n",
    "1.  내가 규정의 한 조항을 알려줄테니, 그 조항을 바탕으로 대한민국 군인이 궁금해 할 법한 질문을 생성해줘. \n",
    "\n",
    "## 조건\n",
    "- 질문의 개수는 최소 1개, 최대 5개이며, 질문의 내용이 중복되지 않아야 한다.\n",
    "- 질문하는 말투는 \"~~이 뭐야?\" \"~~이 뭡니까?\" \"~~이 궁금합니다\" 등 다양해야한다.\n",
    "- 반드시 규정 안에서만 답변할 수 있을만한 질문이어야 한다. \n",
    "- 답변은 친절하게 말해야하며, 반드시 조항 안에 있는 내용만을 바탕으로 답변해야 한다.\n",
    "- 답변은 \"~~에 대한 질문을 주셨군요\". \"~~ 에 대해 답변드리겠습니다\"와 답변 전 공감이 들어가야 한다.\n",
    "- 삭제 등 질문을 추출할 수 없는 정보는 \"질문 없음\"이라고 표기한다.\n",
    "\n",
    "## 포맷\n",
    "- {질문1} | {답변1}\n",
    "- {질문2} | {답변2}\n",
    "...\n",
    "\n",
    "## 예시\n",
    "부대에서 술을 마셔도 되나요? | 부대에서 음주가 가능한지 질문하셨군요. \\n 술과 담배는 허가된 시간과 장소에서 마시거나 피워야 합니다. 따라서 부대에서 허가된 장소에서 음주하세요. \n",
    "부대에서 담배 펴도 됨? | 부대 내 흡연 가능 여부에 대해 답변드리겠습니다. \\n 술과 담배는 허가된 시간과 장소에서만 마시거나 피울 수 있습니다. 부대의 허가된 장소에서만 흡연이 가능합니다. \n",
    "부대에서 술을 마셔도 됩니까? | 부대 내 음주 가능 여부에 대해 말씀드리겠습니다. \\n 술과 담배는 허가된 시간과 장소에서 마시거나 피워야 합니다. 따라서 부대에서 허가된 장소에서 음주하세요.\n",
    "'''\n",
    "\n",
    "## 모델 parameter 지정\n",
    "temperature = 0\n",
    "top_p = 0.1\n",
    "presence_penalty = 0\n",
    "frequency_penalty = 0\n",
    "max_tokens = 4096"
   ]
  },
  {
   "cell_type": "code",
   "execution_count": 5,
   "metadata": {},
   "outputs": [
    {
     "data": {
      "text/plain": [
       "[]"
      ]
     },
     "execution_count": 5,
     "metadata": {},
     "output_type": "execute_result"
    }
   ],
   "source": [
    "input_file = input_files[40]\n",
    "data = []\n",
    "# JSONL 파일에서 데이터를 읽어 리스트에 저장합니다.\n",
    "with jsonlines.open(input_file) as reader:\n",
    "    for obj in reader:\n",
    "        print(obj)\n",
    "        data.append({\"user\": obj[\"text\"]})\n",
    "\n",
    "data"
   ]
  },
  {
   "cell_type": "code",
   "execution_count": 6,
   "metadata": {},
   "outputs": [
    {
     "name": "stderr",
     "output_type": "stream",
     "text": [
      " 37%|███▋      | 86/232 [00:00<00:00, 280.28it/s]"
     ]
    },
    {
     "name": "stdout",
     "output_type": "stream",
     "text": [
      "../국방부훈령QA생성_llm_train/국방부 공무원의 부동산 신규취득 제한에 관한 지침.jsonl 파일이 비었습니다.\n",
      "../국방부훈령QA생성_llm_train/국방전력발전업무훈령.jsonl 파일이 비었습니다.\n",
      "../국방부훈령QA생성_llm_train/국방조직 및 정원 관리 훈령.jsonl 파일이 비었습니다.\n"
     ]
    },
    {
     "name": "stderr",
     "output_type": "stream",
     "text": [
      "100%|██████████| 232/232 [00:00<00:00, 257.81it/s]\n"
     ]
    }
   ],
   "source": [
    "army_df = pd.DataFrame(columns = ['model','system','document','user'])\n",
    "\n",
    "## 배치 전용 파일 만들기\n",
    "for input_file in tqdm(input_files):\n",
    "    ## 파일 이름 추출\n",
    "    file_name = os.path.splitext(os.path.basename(input_file))[0]\n",
    "    \n",
    "    data = []\n",
    "    # JSONL 파일에서 데이터를 읽어 리스트에 저장합니다.\n",
    "    with jsonlines.open(input_file) as reader:\n",
    "        for obj in reader:\n",
    "            data.append({\"user\": obj[\"text\"]})\n",
    "    \n",
    "    if len(data) == 0:\n",
    "        print(f\"{input_file} 파일이 비었습니다.\")\n",
    "        continue    \n",
    "     \n",
    "    # pandas DataFrame으로 변환\n",
    "    df = pd.DataFrame(data)\n",
    "    df = df[~df['user'].str.contains(\"부칙 \")]\n",
    "    \n",
    "    ## 파일 이름과 모델 이름, system prompt 정의\n",
    "    df['document'] = file_name\n",
    "    df['system'] = system_prompt\n",
    "    df['model'] = model\n",
    "    \n",
    "    army_df = pd.concat([army_df, df], axis = 0).reset_index(drop=True)"
   ]
  },
  {
   "cell_type": "code",
   "execution_count": 7,
   "metadata": {},
   "outputs": [
    {
     "name": "stderr",
     "output_type": "stream",
     "text": [
      "  0%|          | 0/8508 [00:00<?, ?it/s]"
     ]
    },
    {
     "name": "stderr",
     "output_type": "stream",
     "text": [
      "100%|██████████| 8508/8508 [00:00<00:00, 56356.73it/s]\n"
     ]
    }
   ],
   "source": [
    "## model, system prompt, user prompt 지정\n",
    "model = army_df['model']\n",
    "system = army_df['system']\n",
    "user = army_df['user']\n",
    "\n",
    "## 배치파일 만들기\n",
    "n = len(user)\n",
    "result = []\n",
    "\n",
    "for i in tqdm(range(n)):\n",
    "    task = {\n",
    "            \"custom_id\": f\"task{i}\",\n",
    "            \"method\": \"POST\",\n",
    "            \"url\": \"/v1/chat/completions\",\n",
    "            \"body\": {\n",
    "                # This is what you would have in your Chat Completions API call\n",
    "                \"model\": model[i],\n",
    "                \"messages\": [\n",
    "                    {\n",
    "                        \"role\": \"system\",\n",
    "                        \"content\": system[i]\n",
    "                    },\n",
    "                    {\n",
    "                        \"role\": \"user\",\n",
    "                        \"content\": user[i]\n",
    "                    }\n",
    "                ],\n",
    "                \"temperature\": temperature,\n",
    "                \"top_p\": top_p,\n",
    "                \"presence_penalty\": presence_penalty,\n",
    "                \"frequency_penalty\": frequency_penalty,\n",
    "                \"max_tokens\": max_tokens,\n",
    "            }\n",
    "        }\n",
    "    # print(task)\n",
    "    result.append(task)"
   ]
  },
  {
   "cell_type": "code",
   "execution_count": 9,
   "metadata": {},
   "outputs": [],
   "source": [
    "jsonl_name = f\"국방부훈령_JSONL_RESULT.jsonl\"\n",
    "\n",
    "with open(jsonl_name, 'w', encoding='utf-8') as file:\n",
    "    for obj in result:\n",
    "        file.write(json.dumps(obj, ensure_ascii=False) + '\\n')"
   ]
  },
  {
   "cell_type": "code",
   "execution_count": 24,
   "metadata": {},
   "outputs": [],
   "source": [
    "input_file = './부대관리 훈령.jsonl'   # JSONL 파일 경로\n",
    "# 파일명 추출 (확장자 제외)\n",
    "file_name = os.path.splitext(os.path.basename(input_file))[0]\n",
    "# output_file = './부대관리 훈령.csv'"
   ]
  },
  {
   "cell_type": "code",
   "execution_count": 27,
   "metadata": {},
   "outputs": [],
   "source": [
    "army_df.to_excel('./국방부훈령_batch_input.xlsx', index = False)"
   ]
  },
  {
   "cell_type": "code",
   "execution_count": 31,
   "metadata": {},
   "outputs": [],
   "source": [
    "# data = []\n",
    "\n",
    "# # JSONL 파일에서 데이터를 읽어 리스트에 저장합니다.\n",
    "# with jsonlines.open(input_file) as reader:\n",
    "#     for obj in reader:\n",
    "#         data.append({\"user\": obj[\"text\"]})\n",
    "\n",
    "# # pandas DataFrame으로 변환\n",
    "# df = pd.DataFrame(data)\n",
    "\n",
    "# # DataFrame을 CSV 파일로 저장\n",
    "# # df.to_csv(output_file, index=False, encoding = \"euc-kr\")\n",
    "\n",
    "# ## system prompt와 model 정의\n",
    "# model = 'gpt-4o'\n",
    "\n",
    "# system_prompt = '''\n",
    "# ## 역할\n",
    "# 너는 규정에 대한 질의를 할 수 있는 질문생성기야. 대한민국 군인이라 생각하고 제공하는 조항에 대해 질문을 할 수 있어야 해. 그리고 그 질문에 대해 명확한 답변을 제공할 수 있어야 한다.\n",
    "\n",
    "# ## 지시\n",
    "# 1.  내가 규정의 한 조항을 알려줄테니, 그 조항을 바탕으로 대한민국 군인이 궁금해 할 법한 질문을 생성해줘. \n",
    "\n",
    "# ## 조건\n",
    "# - 질문의 개수는 최소 1개, 최대 5개이며, 질문의 내용이 중복되지 않아야 한다.\n",
    "# - 질문하는 말투는 \"~~이 뭐야?\" \"~~이 뭡니까?\" \"~~이 궁금합니다\" 등 다양해야한다.\n",
    "# - 반드시 규정 안에서만 답변할 수 있을만한 질문이어야 한다. \n",
    "# - 답변은 친절하게 말해야하며, 반드시 조항 안에 있는 내용만을 바탕으로 답변해야 한다.\n",
    "# - 답변은 \"~~에 대한 질문을 주셨군요\". \"~~ 에 대해 답변드리겠습니다\"와 답변 전 공감이 들어가야 한다.\n",
    "# - 삭제 등 질문을 추출할 수 없는 정보는 \"질문 없음\"이라고 표기한다.\n",
    "\n",
    "# ## 포맷\n",
    "# - {질문1} | {답변1}\n",
    "# - {질문2} | {답변2}\n",
    "# ...\n",
    "\n",
    "# ## 예시\n",
    "# 부대에서 술을 마셔도 되나요? | 부대에서 음주가 가능한지 질문하셨군요. \\n 술과 담배는 허가된 시간과 장소에서 마시거나 피워야 합니다. 따라서 부대에서 허가된 장소에서 음주하세요. \n",
    "# 부대에서 담배 펴도 됨? | 부대 내 흡연 가능 여부에 대해 답변드리겠습니다. \\n 술과 담배는 허가된 시간과 장소에서만 마시거나 피울 수 있습니다. 부대의 허가된 장소에서만 흡연이 가능합니다. \n",
    "# 부대에서 술을 마셔도 됩니까? | 부대 내 음주 가능 여부에 대해 말씀드리겠습니다. \\n 술과 담배는 허가된 시간과 장소에서 마시거나 피워야 합니다. 따라서 부대에서 허가된 장소에서 음주하세요.\n",
    "# '''\n",
    "\n",
    "# df['system'] = system_prompt\n",
    "# df['model'] = model\n",
    "\n",
    "# ## model, system prompt, user prompt 지정\n",
    "# model = df['model']\n",
    "# system = df['system']\n",
    "# user = df['user']\n",
    "\n",
    "# ## 모델 parameter 지정\n",
    "# temperature = 0\n",
    "# top_p = 0.1\n",
    "# presence_penalty = 0\n",
    "# frequency_penalty = 0\n",
    "# max_tokens = 4096\n",
    "\n",
    "# ## 배치파일 만들기\n",
    "# n = len(user)\n",
    "# result = []\n",
    "\n",
    "# for i in tqdm(range(n)):\n",
    "#     task = {\n",
    "#             \"custom_id\": f\"task{i}\",\n",
    "#             \"method\": \"POST\",\n",
    "#             \"url\": \"/v1/chat/completions\",\n",
    "#             \"body\": {\n",
    "#                 # This is what you would have in your Chat Completions API call\n",
    "#                 \"model\": model[i],\n",
    "#                 \"messages\": [\n",
    "#                     {\n",
    "#                         \"role\": \"system\",\n",
    "#                         \"content\": system[i]\n",
    "#                     },\n",
    "#                     {\n",
    "#                         \"role\": \"user\",\n",
    "#                         \"content\": user[i]\n",
    "#                     }\n",
    "#                 ],\n",
    "#                 \"temperature\": temperature,\n",
    "#                 \"top_p\": top_p,\n",
    "#                 \"presence_penalty\": presence_penalty,\n",
    "#                 \"frequency_penalty\": frequency_penalty,\n",
    "#                 \"max_tokens\": max_tokens,\n",
    "#             }\n",
    "#         }\n",
    "#     # print(task)\n",
    "#     result.append(task)\n",
    "    \n",
    "# jsonl_name = f\"{file_name}_JSONL_RESULT.jsonl\"\n",
    "# with open(jsonl_name, 'w', encoding='utf-8') as file:\n",
    "#     for obj in result:\n",
    "#         file.write(json.dumps(obj, ensure_ascii=False) + '\\n')\n"
   ]
  }
 ],
 "metadata": {
  "kernelspec": {
   "display_name": "Python 3",
   "language": "python",
   "name": "python3"
  },
  "language_info": {
   "codemirror_mode": {
    "name": "ipython",
    "version": 3
   },
   "file_extension": ".py",
   "mimetype": "text/x-python",
   "name": "python",
   "nbconvert_exporter": "python",
   "pygments_lexer": "ipython3",
   "version": "3.7.0"
  }
 },
 "nbformat": 4,
 "nbformat_minor": 2
}
