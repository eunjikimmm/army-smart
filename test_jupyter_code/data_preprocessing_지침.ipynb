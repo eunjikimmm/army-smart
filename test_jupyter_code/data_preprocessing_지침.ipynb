{
 "cells": [
  {
   "cell_type": "code",
   "execution_count": 13,
   "metadata": {},
   "outputs": [],
   "source": [
    "from tqdm import tqdm\n",
    "import os\n",
    "import re\n",
    "import json\n",
    "import pdfplumber"
   ]
  },
  {
   "cell_type": "code",
   "execution_count": 14,
   "metadata": {},
   "outputs": [],
   "source": [
    "file_name = '탄약 수송 결박지침서'\n",
    "folder_path = './data/jisi/' \n",
    "output_path = './'"
   ]
  },
  {
   "cell_type": "code",
   "execution_count": 15,
   "metadata": {},
   "outputs": [],
   "source": [
    "## 제거해야할 페이지 설정\n",
    "drop_page = list(range(1,8)) \n",
    "        # [23] + \\\n",
    "        # list(range(128,141))\n",
    "drop_page = [p-1 for p in drop_page]"
   ]
  },
  {
   "cell_type": "code",
   "execution_count": 16,
   "metadata": {},
   "outputs": [
    {
     "name": "stderr",
     "output_type": "stream",
     "text": [
      "100%|██████████| 147/147 [00:29<00:00,  5.03it/s]\n"
     ]
    }
   ],
   "source": [
    "## 제거할 페이지 남기고 txt 추출\n",
    "with pdfplumber.open(folder_path + file_name + '.pdf') as pdf:\n",
    "    text = ''\n",
    "    for page_number in tqdm(range(len(pdf.pages))):\n",
    "        if page_number not in drop_page:\n",
    "            ## 페이지 텍스트 추출\n",
    "            text += pdf.pages[page_number].extract_text()\n",
    "\n",
    "            # 텍스트 파일로 저장\n",
    "        with open(output_path + file_name + '.txt', 'w', encoding='utf-8') as txt_file:\n",
    "            txt_file.write(text)\n",
    "\n",
    "# 텍스트를 \\n 기준으로 리스트화\n",
    "text_list = [line + '\\n' for line in text.split('\\n') if line]"
   ]
  },
  {
   "cell_type": "code",
   "execution_count": 93,
   "metadata": {},
   "outputs": [],
   "source": [
    "class ContentsProcess:\n",
    "    def __init__(self):\n",
    "        pass\n",
    "\n",
    "    def convert_key_to_num(contents, number_key, title_type):\n",
    "        ## 특정 문자가 왔을 때 이걸 차례로 넘버링하기\n",
    "        # number_key = '¢'\n",
    "\n",
    "        chapter_number = 1\n",
    "        result = []\n",
    "        for line in contents:\n",
    "            if line.startswith(number_key):\n",
    "                if title_type != '조':\n",
    "                    line = f'제{chapter_number}{title_type} {line[2:-1]}\\n'\n",
    "                else:\n",
    "                    line = f'제{chapter_number}{title_type}({line[2:-1]})\\n'\n",
    "                chapter_number += 1\n",
    "            result.append(line)\n",
    "        \n",
    "        return result\n",
    "    \n",
    "    def convert_num_to_jo(contents, title_type):\n",
    "        ## 1. -> 제1조() 로 변환해주기\n",
    "        refined_contents = []\n",
    "        pattern = re.compile(r'^(\\s*)(\\d+)\\.(\\s+)(.+)\\n')\n",
    "        \n",
    "        for line in contents:\n",
    "            match = pattern.match(line)\n",
    "            if match:\n",
    "                etc = match.group(1)\n",
    "                number = match.group(2)\n",
    "                content = match.group(4)\n",
    "                if title_type != '조':\n",
    "                    refined_line = f\"{etc}제{number}{title_type} {content}\\n\"\n",
    "                    refined_contents.append(refined_line)\n",
    "                else:\n",
    "                    refined_line = f\"{etc}제{number}{title_type}({content})\\n\"\n",
    "                    refined_contents.append(refined_line)\n",
    "            else:\n",
    "                refined_contents.append(line)\n",
    "        \n",
    "        return refined_contents\n",
    "    \n",
    "    \n",
    "\n",
    "    def convert_rom_to_num(contents, title_type):\n",
    "        ## 로마숫자를 제1조()로 바꾸기\n",
    "        def roman_to_int(roman):\n",
    "            ## 로마숫자 아라비아 숫자로 변환\n",
    "            roman_numerals = {\n",
    "                'Ⅰ': 1, 'Ⅱ': 2, 'Ⅲ': 3, 'Ⅳ': 4, 'Ⅴ': 5, 'Ⅵ': 6, 'Ⅶ': 7, 'Ⅷ': 8, 'Ⅸ': 9, 'Ⅹ': 10,\n",
    "                'I': 1, 'II': 2, 'III': 3, 'IV': 4, 'V': 5, 'VI': 6, 'VII': 7, 'VIII': 8, 'IX': 9, 'X': 10\n",
    "            }\n",
    "            return roman_numerals.get(roman, 0)\n",
    "        pattern = re.compile(r'^(Ⅰ|Ⅱ|Ⅲ|Ⅳ|Ⅴ|Ⅵ|Ⅶ|Ⅷ|Ⅸ|Ⅹ|I{1,3}|IV|V|VI{0,3}|IX|X)[\\.\\s]')\n",
    "        \n",
    "        def replace_line(line, title_type):\n",
    "            match = pattern.match(line)\n",
    "            if match:\n",
    "                num = roman_to_int(match.group(1))\n",
    "                title = line[match.end():].strip()\n",
    "                if title_type != '조':\n",
    "                    return f'제{num}{title_type} {title}\\n'\n",
    "                else:\n",
    "                    return f'제{num}{title_type}({title})\\n'\n",
    "            return line\n",
    "        \n",
    "        return [replace_line(line,title_type) for line in contents]\n",
    "    \n",
    "    def convert_kor_to_num(contents, title_type):\n",
    "        # 한글 목차 항목을 찾기 위한 정규 표현식\n",
    "        pattern = re.compile(r'^\\s*([가-하])\\.\\s*(.+)\\n')\n",
    "        \n",
    "        # 현재 조항 번호\n",
    "        article_number = 1\n",
    "        \n",
    "        # 변환된 텍스트를 저장할 리스트\n",
    "        converted_lines = []\n",
    "        \n",
    "        for line in contents:\n",
    "            # 한글 목차 항목을 찾기 위한 정규 표현식 매칭 및 변환\n",
    "            if title_type != '조':\n",
    "                new_line = pattern.sub(lambda m: f'제{article_number}{title_type} {m.group(2)}\\n', line)\n",
    "            else:\n",
    "                new_line = pattern.sub(lambda m: f'제{article_number}{title_type}({m.group(2)})\\n', line)\n",
    "            if new_line != line:  # 변환이 일어난 경우에만 조항 번호 증가\n",
    "                article_number += 1\n",
    "            converted_lines.append(new_line)\n",
    "        \n",
    "        return converted_lines"
   ]
  },
  {
   "cell_type": "code",
   "execution_count": 99,
   "metadata": {},
   "outputs": [],
   "source": [
    "contents = [\n",
    "    \"Ⅰ. 첫번째 내용\\n\",\n",
    "    \"Ⅱ. 두번째 내용\\n\",\n",
    "    \"Ⅲ. 세번째 내용\\n\",\n",
    "    \"기타 본문 내용\\n\",\n",
    "    \"Ⅳ. 네번째 내용\\n\",\n",
    "    \"XII. 열두번째 내용\",\n",
    "    \"I. 또 다른 첫번째 내용\",\n",
    "    \"II. 또 다른 두번째 내용\",\n",
    "    \"XI. 열한번째 내용\",\n",
    "    \"L. 오십번째 내용\",\n",
    "    \"XC. 아흔번째 내용\",\n",
    "    \"C. 백번째 내용\"\n",
    "]"
   ]
  },
  {
   "cell_type": "code",
   "execution_count": 100,
   "metadata": {},
   "outputs": [
    {
     "data": {
      "text/plain": [
       "['제1항 첫번째 내용',\n",
       " '제2항 두번째 내용',\n",
       " '제3항 세번째 내용',\n",
       " '기타 본문 내용\\n',\n",
       " '제4항 네번째 내용',\n",
       " 'XII. 열두번째 내용',\n",
       " '제1항 또 다른 첫번째 내용',\n",
       " '제2항 또 다른 두번째 내용',\n",
       " 'XI. 열한번째 내용',\n",
       " 'L. 오십번째 내용',\n",
       " 'XC. 아흔번째 내용',\n",
       " 'C. 백번째 내용']"
      ]
     },
     "execution_count": 100,
     "metadata": {},
     "output_type": "execute_result"
    }
   ],
   "source": [
    "ContentsProcess.convert_rom_to_num(contents,'항')"
   ]
  },
  {
   "cell_type": "markdown",
   "metadata": {},
   "source": []
  },
  {
   "cell_type": "code",
   "execution_count": null,
   "metadata": {},
   "outputs": [],
   "source": []
  }
 ],
 "metadata": {
  "kernelspec": {
   "display_name": "army-smart",
   "language": "python",
   "name": "python3"
  },
  "language_info": {
   "codemirror_mode": {
    "name": "ipython",
    "version": 3
   },
   "file_extension": ".py",
   "mimetype": "text/x-python",
   "name": "python",
   "nbconvert_exporter": "python",
   "pygments_lexer": "ipython3",
   "version": "3.7.4"
  }
 },
 "nbformat": 4,
 "nbformat_minor": 2
}
