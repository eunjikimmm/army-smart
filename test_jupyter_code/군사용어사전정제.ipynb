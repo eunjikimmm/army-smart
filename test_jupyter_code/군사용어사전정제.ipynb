{
 "cells": [
  {
   "cell_type": "code",
   "execution_count": 1,
   "metadata": {},
   "outputs": [],
   "source": [
    "import pandas as pd\n",
    "import jsonlines"
   ]
  },
  {
   "cell_type": "code",
   "execution_count": 2,
   "metadata": {},
   "outputs": [],
   "source": [
    "qa_set_path = './QA증강_intent.csv'\n",
    "retriever_train_path = './qa_retriever_train.jsonl'\n",
    "candidate_pool_path = './candidate_pool_add_qa.jsonl'\n",
    "sft_dialog_path = './dialog_sft.json'"
   ]
  },
  {
   "cell_type": "code",
   "execution_count": 3,
   "metadata": {},
   "outputs": [],
   "source": [
    "## QA 데이터셋 불러오기\n",
    "qa_set = pd.read_csv('./QA증강_intent.csv', encoding = 'cp949')"
   ]
  },
  {
   "cell_type": "code",
   "execution_count": 4,
   "metadata": {},
   "outputs": [
    {
     "data": {
      "text/html": [
       "<div>\n",
       "<style scoped>\n",
       "    .dataframe tbody tr th:only-of-type {\n",
       "        vertical-align: middle;\n",
       "    }\n",
       "\n",
       "    .dataframe tbody tr th {\n",
       "        vertical-align: top;\n",
       "    }\n",
       "\n",
       "    .dataframe thead th {\n",
       "        text-align: right;\n",
       "    }\n",
       "</style>\n",
       "<table border=\"1\" class=\"dataframe\">\n",
       "  <thead>\n",
       "    <tr style=\"text-align: right;\">\n",
       "      <th></th>\n",
       "      <th>질문</th>\n",
       "      <th>이상적인 답변</th>\n",
       "      <th>관련근거</th>\n",
       "    </tr>\n",
       "  </thead>\n",
       "  <tbody>\n",
       "    <tr>\n",
       "      <td>0</td>\n",
       "      <td>휴가비 나오는 기준이 뭔가요</td>\n",
       "      <td>휴가여비 지급기준에 대해 안내해 드리겠습니다.\\n\\n휴가비 지급액 산출 방법은 출발...</td>\n",
       "      <td>육군규정120 병영생활규정\\n제106조(연가) 제3항,\\n22년 육군 예산회계 실무지침</td>\n",
       "    </tr>\n",
       "    <tr>\n",
       "      <td>1</td>\n",
       "      <td>휴가비는 어떤 기준으로 책정되나요?</td>\n",
       "      <td>휴가여비 지급기준에 대해 안내해 드리겠습니다.\\n\\n휴가비 지급액 산출 방법은 출발...</td>\n",
       "      <td>육군규정120 병영생활규정\\n제106조(연가) 제3항,\\n22년 육군 예산회계 실무지침</td>\n",
       "    </tr>\n",
       "    <tr>\n",
       "      <td>2</td>\n",
       "      <td>군인 휴가비 계산 방식이 궁금합니다. 어떻게 되나요?</td>\n",
       "      <td>휴가여비 지급기준에 대해 안내해 드리겠습니다.\\n\\n휴가비 지급액 산출 방법은 출발...</td>\n",
       "      <td>육군규정120 병영생활규정\\n제106조(연가) 제3항,\\n22년 육군 예산회계 실무지침</td>\n",
       "    </tr>\n",
       "    <tr>\n",
       "      <td>3</td>\n",
       "      <td>휴가비 지급 기준에 대해 설명해주세요.</td>\n",
       "      <td>휴가여비 지급기준에 대해 안내해 드리겠습니다.\\n\\n휴가비 지급액 산출 방법은 출발...</td>\n",
       "      <td>육군규정120 병영생활규정\\n제106조(연가) 제3항,\\n22년 육군 예산회계 실무지침</td>\n",
       "    </tr>\n",
       "    <tr>\n",
       "      <td>4</td>\n",
       "      <td>군 휴가비는 어떻게 산정되는지 알 수 있을까요?</td>\n",
       "      <td>휴가여비 지급기준에 대해 안내해 드리겠습니다.\\n\\n휴가비 지급액 산출 방법은 출발...</td>\n",
       "      <td>육군규정120 병영생활규정\\n제106조(연가) 제3항,\\n22년 육군 예산회계 실무지침</td>\n",
       "    </tr>\n",
       "    <tr>\n",
       "      <td>...</td>\n",
       "      <td>...</td>\n",
       "      <td>...</td>\n",
       "      <td>...</td>\n",
       "    </tr>\n",
       "    <tr>\n",
       "      <td>2360</td>\n",
       "      <td>전직지원교육에 대해 알려줘</td>\n",
       "      <td>흔히 '직보반'이라 불리는 '전직 및 위업지원교육'에 대해 알려드릴게요.\\n\\n\"전...</td>\n",
       "      <td>군 전직 및 취업 지원 업무에 \\n관한 국방부 훈령,\\n전역장병 지원에 관한 육군규...</td>\n",
       "    </tr>\n",
       "    <tr>\n",
       "      <td>2361</td>\n",
       "      <td>대민지원 꼭 나가야해?</td>\n",
       "      <td>대민지원이란 국민의 재난예방 및 복구, 농촌 일손돕기, 구난구조, 국가정책사업 및 ...</td>\n",
       "      <td>육군 행정예규 제22호 대민지원 업무처리예규</td>\n",
       "    </tr>\n",
       "    <tr>\n",
       "      <td>2362</td>\n",
       "      <td>전역할때 가져갈 수 있는게 뭐야?</td>\n",
       "      <td>전역 시 휴대해야할 품목 안내 입니다.\\n\\n전역자는 개인피복으로 지급받은 모든 품...</td>\n",
       "      <td>NaN</td>\n",
       "    </tr>\n",
       "    <tr>\n",
       "      <td>2363</td>\n",
       "      <td>보급품 잃어버리면 다시 받을 수 있나요?</td>\n",
       "      <td>개인 피복, 개인 장구류 등 보급품 분실에 대해 안내해 드릴게요.\\n\\n보충피복비를...</td>\n",
       "      <td>24년 물자보급 및 운영규정</td>\n",
       "    </tr>\n",
       "    <tr>\n",
       "      <td>2364</td>\n",
       "      <td>국외 위탁가는데 생활지원금 나와?</td>\n",
       "      <td>위탁교육생 생활지원금에 대해 안내해드릴게요.\\n\\n국외 위탁생 중 6개월 이상의 교...</td>\n",
       "      <td>NaN</td>\n",
       "    </tr>\n",
       "  </tbody>\n",
       "</table>\n",
       "<p>2365 rows × 3 columns</p>\n",
       "</div>"
      ],
      "text/plain": [
       "                                   질문  \\\n",
       "0                     휴가비 나오는 기준이 뭔가요   \n",
       "1                휴가비는 어떤 기준으로 책정되나요?    \n",
       "2      군인 휴가비 계산 방식이 궁금합니다. 어떻게 되나요?    \n",
       "3              휴가비 지급 기준에 대해 설명해주세요.    \n",
       "4         군 휴가비는 어떻게 산정되는지 알 수 있을까요?    \n",
       "...                               ...   \n",
       "2360                   전직지원교육에 대해 알려줘   \n",
       "2361                     대민지원 꼭 나가야해?   \n",
       "2362               전역할때 가져갈 수 있는게 뭐야?   \n",
       "2363           보급품 잃어버리면 다시 받을 수 있나요?   \n",
       "2364               국외 위탁가는데 생활지원금 나와?   \n",
       "\n",
       "                                                이상적인 답변  \\\n",
       "0     휴가여비 지급기준에 대해 안내해 드리겠습니다.\\n\\n휴가비 지급액 산출 방법은 출발...   \n",
       "1     휴가여비 지급기준에 대해 안내해 드리겠습니다.\\n\\n휴가비 지급액 산출 방법은 출발...   \n",
       "2     휴가여비 지급기준에 대해 안내해 드리겠습니다.\\n\\n휴가비 지급액 산출 방법은 출발...   \n",
       "3     휴가여비 지급기준에 대해 안내해 드리겠습니다.\\n\\n휴가비 지급액 산출 방법은 출발...   \n",
       "4     휴가여비 지급기준에 대해 안내해 드리겠습니다.\\n\\n휴가비 지급액 산출 방법은 출발...   \n",
       "...                                                 ...   \n",
       "2360  흔히 '직보반'이라 불리는 '전직 및 위업지원교육'에 대해 알려드릴게요.\\n\\n\"전...   \n",
       "2361  대민지원이란 국민의 재난예방 및 복구, 농촌 일손돕기, 구난구조, 국가정책사업 및 ...   \n",
       "2362  전역 시 휴대해야할 품목 안내 입니다.\\n\\n전역자는 개인피복으로 지급받은 모든 품...   \n",
       "2363  개인 피복, 개인 장구류 등 보급품 분실에 대해 안내해 드릴게요.\\n\\n보충피복비를...   \n",
       "2364  위탁교육생 생활지원금에 대해 안내해드릴게요.\\n\\n국외 위탁생 중 6개월 이상의 교...   \n",
       "\n",
       "                                                   관련근거  \n",
       "0      육군규정120 병영생활규정\\n제106조(연가) 제3항,\\n22년 육군 예산회계 실무지침  \n",
       "1      육군규정120 병영생활규정\\n제106조(연가) 제3항,\\n22년 육군 예산회계 실무지침  \n",
       "2      육군규정120 병영생활규정\\n제106조(연가) 제3항,\\n22년 육군 예산회계 실무지침  \n",
       "3      육군규정120 병영생활규정\\n제106조(연가) 제3항,\\n22년 육군 예산회계 실무지침  \n",
       "4      육군규정120 병영생활규정\\n제106조(연가) 제3항,\\n22년 육군 예산회계 실무지침  \n",
       "...                                                 ...  \n",
       "2360  군 전직 및 취업 지원 업무에 \\n관한 국방부 훈령,\\n전역장병 지원에 관한 육군규...  \n",
       "2361                           육군 행정예규 제22호 대민지원 업무처리예규  \n",
       "2362                                                NaN  \n",
       "2363                                    24년 물자보급 및 운영규정  \n",
       "2364                                                NaN  \n",
       "\n",
       "[2365 rows x 3 columns]"
      ]
     },
     "execution_count": 4,
     "metadata": {},
     "output_type": "execute_result"
    }
   ],
   "source": [
    "qa_set"
   ]
  },
  {
   "cell_type": "markdown",
   "metadata": {},
   "source": []
  },
  {
   "cell_type": "code",
   "execution_count": 27,
   "metadata": {},
   "outputs": [],
   "source": [
    "## retriever train set을 만들기 위한 과정\n",
    "retriever_train = []\n",
    "for index, row in qa_set.iterrows():\n",
    "    retriever_train.append({\"source\": row[\"질문\"], \"target\": row[\"이상적인 답변\"]})\n",
    "\n",
    "with jsonlines.open(retriever_train_path, mode = 'w') as writer:\n",
    "    writer.write_all(retriever_train)\n"
   ]
  },
  {
   "cell_type": "code",
   "execution_count": 6,
   "metadata": {},
   "outputs": [],
   "source": [
    "answer_list = qa_set[['이상적인 답변', '관련근거']].drop_duplicates()\n",
    "candidate_pool = []\n",
    "for index, row in answer_list.iterrows():\n",
    "    candidate_pool.append({\"subject\": \"\", \"text\": row['이상적인 답변'], \"reference\": row['관련근거']})\n",
    "\n",
    "with jsonlines.open(candidate_pool_path, mode = 'w') as writer:\n",
    "    writer.write_all(candidate_pool)\n"
   ]
  },
  {
   "cell_type": "code",
   "execution_count": 5,
   "metadata": {},
   "outputs": [
    {
     "ename": "AttributeError",
     "evalue": "'DataFrame' object has no attribute 'to_list'",
     "output_type": "error",
     "traceback": [
      "\u001b[0;31m---------------------------------------------------------------------------\u001b[0m",
      "\u001b[0;31mAttributeError\u001b[0m                            Traceback (most recent call last)",
      "\u001b[0;32m<ipython-input-5-340cae01f592>\u001b[0m in \u001b[0;36m<module>\u001b[0;34m\u001b[0m\n\u001b[1;32m      1\u001b[0m \u001b[0;31m## candidate_pool을 만들기 위한 과정\u001b[0m\u001b[0;34m\u001b[0m\u001b[0;34m\u001b[0m\u001b[0;34m\u001b[0m\u001b[0m\n\u001b[0;32m----> 2\u001b[0;31m \u001b[0manswer_list\u001b[0m \u001b[0;34m=\u001b[0m \u001b[0mqa_set\u001b[0m\u001b[0;34m[\u001b[0m\u001b[0;34m[\u001b[0m\u001b[0;34m'이상적인 답변'\u001b[0m\u001b[0;34m,\u001b[0m \u001b[0;34m'관련근거'\u001b[0m\u001b[0;34m]\u001b[0m\u001b[0;34m]\u001b[0m\u001b[0;34m.\u001b[0m\u001b[0mdrop_duplicates\u001b[0m\u001b[0;34m(\u001b[0m\u001b[0;34m)\u001b[0m\u001b[0;34m.\u001b[0m\u001b[0mto_list\u001b[0m\u001b[0;34m(\u001b[0m\u001b[0;34m)\u001b[0m\u001b[0;34m\u001b[0m\u001b[0;34m\u001b[0m\u001b[0m\n\u001b[0m\u001b[1;32m      3\u001b[0m \u001b[0mcandidate_pool\u001b[0m \u001b[0;34m=\u001b[0m \u001b[0;34m[\u001b[0m\u001b[0;34m]\u001b[0m\u001b[0;34m\u001b[0m\u001b[0;34m\u001b[0m\u001b[0m\n\u001b[1;32m      4\u001b[0m \u001b[0;32mfor\u001b[0m \u001b[0mrow\u001b[0m \u001b[0;32min\u001b[0m \u001b[0manswer_list\u001b[0m\u001b[0;34m:\u001b[0m\u001b[0;34m\u001b[0m\u001b[0;34m\u001b[0m\u001b[0m\n\u001b[1;32m      5\u001b[0m     \u001b[0mcandidate_pool\u001b[0m\u001b[0;34m.\u001b[0m\u001b[0mappend\u001b[0m\u001b[0;34m(\u001b[0m\u001b[0;34m{\u001b[0m\u001b[0;34m\"subject\"\u001b[0m\u001b[0;34m:\u001b[0m \u001b[0;34m\"\"\u001b[0m\u001b[0;34m,\u001b[0m \u001b[0;34m\"text\"\u001b[0m\u001b[0;34m:\u001b[0m \u001b[0mrow\u001b[0m\u001b[0;34m,\u001b[0m \u001b[0;34m\"reference\"\u001b[0m\u001b[0;34m:\u001b[0m \u001b[0;34m\"\"\u001b[0m\u001b[0;34m}\u001b[0m\u001b[0;34m)\u001b[0m\u001b[0;34m\u001b[0m\u001b[0;34m\u001b[0m\u001b[0m\n",
      "\u001b[0;32m~/anaconda3/lib/python3.7/site-packages/pandas/core/generic.py\u001b[0m in \u001b[0;36m__getattr__\u001b[0;34m(self, name)\u001b[0m\n\u001b[1;32m   5177\u001b[0m             \u001b[0;32mif\u001b[0m \u001b[0mself\u001b[0m\u001b[0;34m.\u001b[0m\u001b[0m_info_axis\u001b[0m\u001b[0;34m.\u001b[0m\u001b[0m_can_hold_identifiers_and_holds_name\u001b[0m\u001b[0;34m(\u001b[0m\u001b[0mname\u001b[0m\u001b[0;34m)\u001b[0m\u001b[0;34m:\u001b[0m\u001b[0;34m\u001b[0m\u001b[0;34m\u001b[0m\u001b[0m\n\u001b[1;32m   5178\u001b[0m                 \u001b[0;32mreturn\u001b[0m \u001b[0mself\u001b[0m\u001b[0;34m[\u001b[0m\u001b[0mname\u001b[0m\u001b[0;34m]\u001b[0m\u001b[0;34m\u001b[0m\u001b[0;34m\u001b[0m\u001b[0m\n\u001b[0;32m-> 5179\u001b[0;31m             \u001b[0;32mreturn\u001b[0m \u001b[0mobject\u001b[0m\u001b[0;34m.\u001b[0m\u001b[0m__getattribute__\u001b[0m\u001b[0;34m(\u001b[0m\u001b[0mself\u001b[0m\u001b[0;34m,\u001b[0m \u001b[0mname\u001b[0m\u001b[0;34m)\u001b[0m\u001b[0;34m\u001b[0m\u001b[0;34m\u001b[0m\u001b[0m\n\u001b[0m\u001b[1;32m   5180\u001b[0m \u001b[0;34m\u001b[0m\u001b[0m\n\u001b[1;32m   5181\u001b[0m     \u001b[0;32mdef\u001b[0m \u001b[0m__setattr__\u001b[0m\u001b[0;34m(\u001b[0m\u001b[0mself\u001b[0m\u001b[0;34m,\u001b[0m \u001b[0mname\u001b[0m\u001b[0;34m,\u001b[0m \u001b[0mvalue\u001b[0m\u001b[0;34m)\u001b[0m\u001b[0;34m:\u001b[0m\u001b[0;34m\u001b[0m\u001b[0;34m\u001b[0m\u001b[0m\n",
      "\u001b[0;31mAttributeError\u001b[0m: 'DataFrame' object has no attribute 'to_list'"
     ]
    }
   ],
   "source": [
    "## candidate_pool을 만들기 위한 과정\n",
    "answer_list = qa_set[['이상적인 답변', '관련근거']].drop_duplicates()\n",
    "candidate_pool = []\n",
    "for row in answer_list:\n",
    "    candidate_pool.append({\"subject\": \"\", \"text\": row, \"reference\": \"\"})\n",
    "\n",
    "with jsonlines.open(candidate_pool_path, mode = 'w') as writer:\n",
    "    writer.write_all(candidate_pool)\n"
   ]
  },
  {
   "cell_type": "code",
   "execution_count": 10,
   "metadata": {},
   "outputs": [],
   "source": [
    "qa_set[\"이상적인 답변 종합\"] = qa_set[\"이상적인 답변\"] + \"\\n ※관련 근거:\" + qa_set['관련근거'].fillna('')"
   ]
  },
  {
   "cell_type": "code",
   "execution_count": 9,
   "metadata": {},
   "outputs": [
    {
     "data": {
      "text/plain": [
       "0        육군규정120 병영생활규정\\n제106조(연가) 제3항,\\n22년 육군 예산회계 실무지침\n",
       "1        육군규정120 병영생활규정\\n제106조(연가) 제3항,\\n22년 육군 예산회계 실무지침\n",
       "2        육군규정120 병영생활규정\\n제106조(연가) 제3항,\\n22년 육군 예산회계 실무지침\n",
       "3        육군규정120 병영생활규정\\n제106조(연가) 제3항,\\n22년 육군 예산회계 실무지침\n",
       "4        육군규정120 병영생활규정\\n제106조(연가) 제3항,\\n22년 육군 예산회계 실무지침\n",
       "                              ...                        \n",
       "2360    군 전직 및 취업 지원 업무에 \\n관한 국방부 훈령,\\n전역장병 지원에 관한 육군규...\n",
       "2361                             육군 행정예규 제22호 대민지원 업무처리예규\n",
       "2362                                                     \n",
       "2363                                      24년 물자보급 및 운영규정\n",
       "2364                                                     \n",
       "Name: 관련근거, Length: 2365, dtype: object"
      ]
     },
     "execution_count": 9,
     "metadata": {},
     "output_type": "execute_result"
    }
   ],
   "source": [
    "qa_set['관련근거'].fillna('')"
   ]
  },
  {
   "cell_type": "code",
   "execution_count": 7,
   "metadata": {},
   "outputs": [
    {
     "data": {
      "text/plain": [
       "0       휴가여비 지급기준에 대해 안내해 드리겠습니다.\\n\\n휴가비 지급액 산출 방법은 출발...\n",
       "1       휴가여비 지급기준에 대해 안내해 드리겠습니다.\\n\\n휴가비 지급액 산출 방법은 출발...\n",
       "2       휴가여비 지급기준에 대해 안내해 드리겠습니다.\\n\\n휴가비 지급액 산출 방법은 출발...\n",
       "3       휴가여비 지급기준에 대해 안내해 드리겠습니다.\\n\\n휴가비 지급액 산출 방법은 출발...\n",
       "4       휴가여비 지급기준에 대해 안내해 드리겠습니다.\\n\\n휴가비 지급액 산출 방법은 출발...\n",
       "                              ...                        \n",
       "2360    흔히 '직보반'이라 불리는 '전직 및 위업지원교육'에 대해 알려드릴게요.\\n\\n\"전...\n",
       "2361    대민지원이란 국민의 재난예방 및 복구, 농촌 일손돕기, 구난구조, 국가정책사업 및 ...\n",
       "2362                                                  NaN\n",
       "2363    개인 피복, 개인 장구류 등 보급품 분실에 대해 안내해 드릴게요.\\n\\n보충피복비를...\n",
       "2364                                                  NaN\n",
       "Name: 이상적인 답변 종합, Length: 2365, dtype: object"
      ]
     },
     "execution_count": 7,
     "metadata": {},
     "output_type": "execute_result"
    }
   ],
   "source": [
    "qa_set[\"이상적인 답변 종합\"]"
   ]
  },
  {
   "cell_type": "code",
   "execution_count": 11,
   "metadata": {},
   "outputs": [
    {
     "data": {
      "text/html": [
       "<div>\n",
       "<style scoped>\n",
       "    .dataframe tbody tr th:only-of-type {\n",
       "        vertical-align: middle;\n",
       "    }\n",
       "\n",
       "    .dataframe tbody tr th {\n",
       "        vertical-align: top;\n",
       "    }\n",
       "\n",
       "    .dataframe thead th {\n",
       "        text-align: right;\n",
       "    }\n",
       "</style>\n",
       "<table border=\"1\" class=\"dataframe\">\n",
       "  <thead>\n",
       "    <tr style=\"text-align: right;\">\n",
       "      <th></th>\n",
       "      <th>질문</th>\n",
       "      <th>이상적인 답변</th>\n",
       "      <th>관련근거</th>\n",
       "      <th>이상적인 답변 종합</th>\n",
       "    </tr>\n",
       "  </thead>\n",
       "  <tbody>\n",
       "    <tr>\n",
       "      <td>2360</td>\n",
       "      <td>전직지원교육에 대해 알려줘</td>\n",
       "      <td>흔히 '직보반'이라 불리는 '전직 및 위업지원교육'에 대해 알려드릴게요.\\n\\n\"전...</td>\n",
       "      <td>군 전직 및 취업 지원 업무에 \\n관한 국방부 훈령,\\n전역장병 지원에 관한 육군규...</td>\n",
       "      <td>흔히 '직보반'이라 불리는 '전직 및 위업지원교육'에 대해 알려드릴게요.\\n\\n\"전...</td>\n",
       "    </tr>\n",
       "    <tr>\n",
       "      <td>2361</td>\n",
       "      <td>대민지원 꼭 나가야해?</td>\n",
       "      <td>대민지원이란 국민의 재난예방 및 복구, 농촌 일손돕기, 구난구조, 국가정책사업 및 ...</td>\n",
       "      <td>육군 행정예규 제22호 대민지원 업무처리예규</td>\n",
       "      <td>대민지원이란 국민의 재난예방 및 복구, 농촌 일손돕기, 구난구조, 국가정책사업 및 ...</td>\n",
       "    </tr>\n",
       "    <tr>\n",
       "      <td>2362</td>\n",
       "      <td>전역할때 가져갈 수 있는게 뭐야?</td>\n",
       "      <td>전역 시 휴대해야할 품목 안내 입니다.\\n\\n전역자는 개인피복으로 지급받은 모든 품...</td>\n",
       "      <td>NaN</td>\n",
       "      <td>전역 시 휴대해야할 품목 안내 입니다.\\n\\n전역자는 개인피복으로 지급받은 모든 품...</td>\n",
       "    </tr>\n",
       "    <tr>\n",
       "      <td>2363</td>\n",
       "      <td>보급품 잃어버리면 다시 받을 수 있나요?</td>\n",
       "      <td>개인 피복, 개인 장구류 등 보급품 분실에 대해 안내해 드릴게요.\\n\\n보충피복비를...</td>\n",
       "      <td>24년 물자보급 및 운영규정</td>\n",
       "      <td>개인 피복, 개인 장구류 등 보급품 분실에 대해 안내해 드릴게요.\\n\\n보충피복비를...</td>\n",
       "    </tr>\n",
       "    <tr>\n",
       "      <td>2364</td>\n",
       "      <td>국외 위탁가는데 생활지원금 나와?</td>\n",
       "      <td>위탁교육생 생활지원금에 대해 안내해드릴게요.\\n\\n국외 위탁생 중 6개월 이상의 교...</td>\n",
       "      <td>NaN</td>\n",
       "      <td>위탁교육생 생활지원금에 대해 안내해드릴게요.\\n\\n국외 위탁생 중 6개월 이상의 교...</td>\n",
       "    </tr>\n",
       "  </tbody>\n",
       "</table>\n",
       "</div>"
      ],
      "text/plain": [
       "                          질문  \\\n",
       "2360          전직지원교육에 대해 알려줘   \n",
       "2361            대민지원 꼭 나가야해?   \n",
       "2362      전역할때 가져갈 수 있는게 뭐야?   \n",
       "2363  보급품 잃어버리면 다시 받을 수 있나요?   \n",
       "2364      국외 위탁가는데 생활지원금 나와?   \n",
       "\n",
       "                                                이상적인 답변  \\\n",
       "2360  흔히 '직보반'이라 불리는 '전직 및 위업지원교육'에 대해 알려드릴게요.\\n\\n\"전...   \n",
       "2361  대민지원이란 국민의 재난예방 및 복구, 농촌 일손돕기, 구난구조, 국가정책사업 및 ...   \n",
       "2362  전역 시 휴대해야할 품목 안내 입니다.\\n\\n전역자는 개인피복으로 지급받은 모든 품...   \n",
       "2363  개인 피복, 개인 장구류 등 보급품 분실에 대해 안내해 드릴게요.\\n\\n보충피복비를...   \n",
       "2364  위탁교육생 생활지원금에 대해 안내해드릴게요.\\n\\n국외 위탁생 중 6개월 이상의 교...   \n",
       "\n",
       "                                                   관련근거  \\\n",
       "2360  군 전직 및 취업 지원 업무에 \\n관한 국방부 훈령,\\n전역장병 지원에 관한 육군규...   \n",
       "2361                           육군 행정예규 제22호 대민지원 업무처리예규   \n",
       "2362                                                NaN   \n",
       "2363                                    24년 물자보급 및 운영규정   \n",
       "2364                                                NaN   \n",
       "\n",
       "                                             이상적인 답변 종합  \n",
       "2360  흔히 '직보반'이라 불리는 '전직 및 위업지원교육'에 대해 알려드릴게요.\\n\\n\"전...  \n",
       "2361  대민지원이란 국민의 재난예방 및 복구, 농촌 일손돕기, 구난구조, 국가정책사업 및 ...  \n",
       "2362  전역 시 휴대해야할 품목 안내 입니다.\\n\\n전역자는 개인피복으로 지급받은 모든 품...  \n",
       "2363  개인 피복, 개인 장구류 등 보급품 분실에 대해 안내해 드릴게요.\\n\\n보충피복비를...  \n",
       "2364  위탁교육생 생활지원금에 대해 안내해드릴게요.\\n\\n국외 위탁생 중 6개월 이상의 교...  "
      ]
     },
     "execution_count": 11,
     "metadata": {},
     "output_type": "execute_result"
    }
   ],
   "source": [
    "qa_set.tail()"
   ]
  },
  {
   "cell_type": "code",
   "execution_count": 18,
   "metadata": {},
   "outputs": [],
   "source": [
    "sft_dialog = []\n",
    "qa_set[\"이상적인 답변 종합\"] = qa_set[\"이상적인 답변\"] + \"\\n ※관련 근거:\" + qa_set[\"관련근거\"].fillna('')\n",
    "for index, row in qa_set.iterrows():\n",
    "    sft_dialog.append([\n",
    "        {\"role\": \"system\", \"content\" : \"시스템 메세지를 넣으세요\"}, ## 시스템 메세지 넣기\n",
    "        {\"role\":\"user\", \"content\":row[\"질문\"]}, \n",
    "        {\"role\":\"assistant\", \"content\":row[\"이상적인 답변 종합\"]}\n",
    "    ])"
   ]
  },
  {
   "cell_type": "code",
   "execution_count": 9,
   "metadata": {},
   "outputs": [],
   "source": [
    "## dialog_templete 만들기\n",
    "sft_dialog = []\n",
    "for index, row in qa_set.iterrows():\n",
    "    sft_dialog.append([\n",
    "        {\"role\": \"system\", \"content\" : \"시스템 메세지를 넣으세요\"}, ## 시스템 메세지 넣기\n",
    "        {\"role\":\"user\", \"content\":row[\"질의문\"]}, \n",
    "        {\"role\":\"assistant\", \"content\":row[\"답변\"]}\n",
    "    ])\n",
    "\n",
    "\n",
    "# with jsonlines.open(sft_dialog_path, mode = 'w') as writer:\n",
    "#     writer.write_all(sft_dialog)\n",
    "\n",
    "with open(sft_dialog_path, 'w', encoding='utf-8') as file:\n",
    "    json.dump(sft_dialog, file, ensure_ascii=False)"
   ]
  }
 ],
 "metadata": {
  "kernelspec": {
   "display_name": "Python 3",
   "language": "python",
   "name": "python3"
  },
  "language_info": {
   "codemirror_mode": {
    "name": "ipython",
    "version": 3
   },
   "file_extension": ".py",
   "mimetype": "text/x-python",
   "name": "python",
   "nbconvert_exporter": "python",
   "pygments_lexer": "ipython3",
   "version": "3.7.4"
  }
 },
 "nbformat": 4,
 "nbformat_minor": 2
}
