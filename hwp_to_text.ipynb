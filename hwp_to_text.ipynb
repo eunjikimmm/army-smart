{
 "cells": [
  {
   "cell_type": "code",
   "execution_count": 1,
   "metadata": {},
   "outputs": [],
   "source": [
    "import olefile"
   ]
  },
  {
   "cell_type": "code",
   "execution_count": 38,
   "metadata": {},
   "outputs": [
    {
     "data": {
      "text/plain": [
       "'  제정 국방부예규 제 478호(’10. 4. 13.)\\r\\n일부개정 국방부예규 제 513호(’12. 5. 22.)\\r\\n일부개정 국방부예규 제 573호(’16. 2. 22.)\\r\\n일부개정 국방부예규 제 591호(’17. 6. 13.)\\r\\n일부개정 국방부예규 제621호(’20. 11. 4.)\\r\\n\\r\\n   \\r\\n\\r\\n<국방 지식관리시스템 운영 예규>\\r\\n\\r\\n  목      차\\r\\n\\r\\n제 1 장  총  칙\\r\\n제 1 조    목    적  1\\r\\n제 2 조    정    의  1\\r\\n제 3 조    적용범위  2\\r\\n\\r\\n제 2 장  지식관리체계 및 절차\\r\\n제 4 조    지식정보책임관  3\\r\\n제 5 조    지식정보관리자  3\\r\\n제 6 조    지식정보담당자  3\\r\\n제 8 조    시스템관리  3\\r\\n제 9 조    등록  3\\r\\n제 10 조   평가  4\\r\\n제 11 조   지식의 관리  4\\r\\n제 12 조   지식관리운영위원회의 구성  5\\r\\n제 13 조   지식관리운영위원회의 운영  5\\r\\n제 3 장  학습동아리(CoP)활동\\r\\n제 14 조  구성  6\\r\\n제 15 조  운영  6\\r\\n제 16 조  평가 및 지원  7\\r\\n\\r\\n제 4 장  지식마일리지제도 및 보상\\r\\n제 17 조  지식마일리지제도 운영  7\\r\\n제 18 조  우수지식 등록자 선정 및 보상  8\\r\\n제 19 조  지식활동의 활성화  8\\r\\n제 20 조  지식관리의 날 지정 운영  9\\r\\n\\r\\n부칙  9\\r\\n별표  11\\r\\n별지  12\\r\\n\\r\\n\\r\\n국방 지식관리시스템 운영 예규\\r\\n\\r\\n   제1장 총 칙\\r\\n제1조(목적) 이 예규는 국방부 지식관리시스템(KMS)의 운영 및 관리에 관하여 필요한 사항을 규정하고, 지식관리시스템을 이용한 조직의 지식경쟁력을 통하여 조직 활동성과를 높이기 위함을 목적으로 한다.\\r\\n제2조(정의) 이 예규에서 사용하는 용어의 정의는 다음 각 호와 같다.\\r\\n  1. “지식”이라 함은 조직 구성원이 업무수행, 학습활동 등으로 부터 수집, 창조, 체득된 조직차원에서 공유ㆍ활용가치가 있는 경험, 사례, 노하우 등을 의미한다.\\r\\n  2. “지식관리시스템(이하 e知샘이라 한다.)”이라 '"
      ]
     },
     "execution_count": 38,
     "metadata": {},
     "output_type": "execute_result"
    }
   ],
   "source": [
    "## 이건 한두페이지밖에 추출이 안됨\n",
    "f = olefile.OleFileIO('./test_folder/「국방 지식관리시스템 운영 예규」 개정본문.hwp')\n",
    "encoded_text = f.openstream('PrvText').read()\n",
    "decoded_text = encoded_text.decode('utf-16')\n",
    "# decoded_text"
   ]
  },
  {
   "cell_type": "code",
   "execution_count": 43,
   "metadata": {},
   "outputs": [],
   "source": [
    "import olefile\n",
    "import zlib\n",
    "import struct\n",
    "\n",
    "def get_hwp_text(filename):\n",
    "    f = olefile.OleFileIO(filename)\n",
    "    dirs = f.listdir()\n",
    "\n",
    "    # HWP 파일 검증\n",
    "    if [\"FileHeader\"] not in dirs or \\\n",
    "       [\"\\x05HwpSummaryInformation\"] not in dirs:\n",
    "        raise Exception(\"Not Valid HWP.\")\n",
    "\n",
    "    # 문서 포맷 압축 여부 확인\n",
    "    header = f.openstream(\"FileHeader\")\n",
    "    header_data = header.read()\n",
    "    is_compressed = (header_data[36] & 1) == 1\n",
    "\n",
    "    # Body Sections 불러오기\n",
    "    nums = []\n",
    "    for d in dirs:\n",
    "        if d[0] == \"BodyText\":\n",
    "            nums.append(int(d[1][len(\"Section\"):]))\n",
    "    sections = [\"BodyText/Section\"+str(x) for x in sorted(nums)]\n",
    "\n",
    "    # 전체 text 추출\n",
    "    text = \"\"\n",
    "    for section in sections:\n",
    "        bodytext = f.openstream(section)\n",
    "        data = bodytext.read()\n",
    "        if is_compressed:\n",
    "            unpacked_data = zlib.decompress(data, -15)\n",
    "        else:\n",
    "            unpacked_data = data\n",
    "    \n",
    "        # 각 Section 내 text 추출    \n",
    "        section_text = \"\"\n",
    "        i = 0\n",
    "        size = len(unpacked_data)\n",
    "        while i < size:\n",
    "            header = struct.unpack_from(\"<I\", unpacked_data, i)[0]\n",
    "            rec_type = header & 0x3ff\n",
    "            rec_len = (header >> 20) & 0xfff\n",
    "\n",
    "            if rec_type in [67]:\n",
    "                rec_data = unpacked_data[i+4:i+4+rec_len]\n",
    "                section_text += rec_data.decode('utf-16')\n",
    "                section_text += \"\\n\"\n",
    "                # print(section_text)\n",
    "\n",
    "            i += 4 + rec_len\n",
    "\n",
    "        text += section_text\n",
    "        text += \"\\n\"\n",
    "\n",
    "    return text\n",
    "# [출처] [Python] 각종 문서에서 텍스트 추출하기|작성자 IML"
   ]
  },
  {
   "cell_type": "code",
   "execution_count": 44,
   "metadata": {},
   "outputs": [],
   "source": [
    "text = get_hwp_text('./test_folder/「국방 지식관리시스템 운영 예규」 개정본문.hwp')\n",
    "with open('./txt_folder/text.txt', 'w', encoding='utf-16') as text_file:\n",
    "    text_file.write(text)"
   ]
  },
  {
   "cell_type": "code",
   "execution_count": 7,
   "metadata": {},
   "outputs": [
    {
     "name": "stdout",
     "output_type": "stream",
     "text": [
      "Collecting pyhwp\n",
      "\u001b[?25l  Downloading https://files.pythonhosted.org/packages/ec/38/2a95e3772d9168065f3391d62012f6b34e122d8eafd2ebcccf675a3ef23d/pyhwp-0.1b15.tar.gz (218kB)\n",
      "\u001b[K     |████████████████████████████████| 225kB 10.3MB/s eta 0:00:01\n",
      "\u001b[?25hRequirement already satisfied: cryptography in /home/minds/anaconda3/lib/python3.7/site-packages (from pyhwp) (2.7)\n",
      "Requirement already satisfied: lxml in /home/minds/anaconda3/lib/python3.7/site-packages (from pyhwp) (4.4.1)\n",
      "Requirement already satisfied: olefile>=0.43 in /home/minds/anaconda3/lib/python3.7/site-packages (from pyhwp) (0.46)\n",
      "Requirement already satisfied: cffi!=1.11.3,>=1.8 in /home/minds/anaconda3/lib/python3.7/site-packages (from cryptography->pyhwp) (1.12.3)\n",
      "Requirement already satisfied: asn1crypto>=0.21.0 in /home/minds/anaconda3/lib/python3.7/site-packages (from cryptography->pyhwp) (1.0.1)\n",
      "Requirement already satisfied: six>=1.4.1 in /home/minds/anaconda3/lib/python3.7/site-packages (from cryptography->pyhwp) (1.12.0)\n",
      "Requirement already satisfied: pycparser in /home/minds/anaconda3/lib/python3.7/site-packages (from cffi!=1.11.3,>=1.8->cryptography->pyhwp) (2.19)\n",
      "Building wheels for collected packages: pyhwp\n",
      "  Building wheel for pyhwp (setup.py) ... \u001b[?25ldone\n",
      "\u001b[?25h  Created wheel for pyhwp: filename=pyhwp-0.1b15-cp37-none-any.whl size=315441 sha256=3eeb3e4bb35bd83f2eac239eeef0319016c6b04dbef50e2d70e00a1956d67ffe\n",
      "  Stored in directory: /home/minds/.cache/pip/wheels/56/d7/7f/050d0b98805dada5b9f8ea498352ff5dc192f2be92422b8ccd\n",
      "Successfully built pyhwp\n",
      "Installing collected packages: pyhwp\n",
      "Successfully installed pyhwp-0.1b15\n"
     ]
    }
   ],
   "source": [
    "\n",
    "!pip install --user --pre pyhwp"
   ]
  },
  {
   "cell_type": "code",
   "execution_count": 10,
   "metadata": {},
   "outputs": [],
   "source": [
    "## 터미널에서 사용하기\n",
    "!hwp5txt --output './test_folder/text.txt' '「국방 지식관리시스템 운영 예규」 개정본문.hwp'"
   ]
  },
  {
   "cell_type": "code",
   "execution_count": 21,
   "metadata": {},
   "outputs": [],
   "source": [
    "import os\n",
    "# import win32com.client as win32\n",
    "\n",
    "import_path = './test_folder/' ## hwp 파일 저장된 경로 (폴더)\n",
    "convert_path = './txt_folder' ## text 파일 저장되어야 하는 경로 (폴더)\n",
    "exefile = 'hwp5txt'\n",
    "\n",
    "## 한글파일 txt로 변환해서 저장\n",
    "\n",
    "res = []\n",
    "for root, dirs, files in os.walk(import_path):\n",
    "    # rootpath = os.path.join(os.path.abspath(import_path), root)\n",
    "    import_rootpath = os.path.abspath(import_path)\n",
    "    convert_rootpath = os.path.abspath(convert_path)\n",
    "\n",
    "    for file in files:\n",
    "        import_file_path = os.path.join(import_rootpath, file)\n",
    "        convert_file_path = os.path.join(convert_rootpath, file[:-4]+\".txt\")\n",
    "        output = '--output ' + '\"' + convert_file_path + '\"'\n",
    "        result = '\"' + import_file_path + '\"'\n",
    "        print(exefile + ' ' + output + ' ' + result)\n",
    "        os.system(exefile + ' ' + output + ' ' + result)"
   ]
  },
  {
   "cell_type": "code",
   "execution_count": null,
   "metadata": {},
   "outputs": [],
   "source": []
  }
 ],
 "metadata": {
  "kernelspec": {
   "display_name": "base",
   "language": "python",
   "name": "python3"
  },
  "language_info": {
   "codemirror_mode": {
    "name": "ipython",
    "version": 3
   },
   "file_extension": ".py",
   "mimetype": "text/x-python",
   "name": "python",
   "nbconvert_exporter": "python",
   "pygments_lexer": "ipython3",
   "version": "3.7.4"
  }
 },
 "nbformat": 4,
 "nbformat_minor": 2
}
