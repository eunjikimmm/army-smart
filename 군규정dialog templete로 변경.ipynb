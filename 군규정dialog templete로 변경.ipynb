{
 "cells": [
  {
   "cell_type": "code",
   "execution_count": 25,
   "metadata": {},
   "outputs": [],
   "source": [
    "import pandas as pd\n",
    "import jsonlines\n",
    "import json\n",
    "import os"
   ]
  },
  {
   "cell_type": "code",
   "execution_count": 40,
   "metadata": {},
   "outputs": [],
   "source": [
    "all_files = os.listdir('./retrieval_data/candidate_pool_url/') ## candidate pool 경로\n",
    "jsonl_file = [os.path.splitext(file)[0] for file in all_files if file.endswith('.jsonl')] ## jsonl인 확장자만 불러와서 파일 명만 추출"
   ]
  },
  {
   "cell_type": "code",
   "execution_count": 39,
   "metadata": {},
   "outputs": [],
   "source": [
    "# candiate_pool로 규정 데이터를 학습하는 방법\n",
    "\n",
    "def convert_cddpool_dialog(file_name):\n",
    "    ## candidate_pool로 원본 데이터 불러오기 \n",
    "    ## ori_text는 제목과 내용이 붙어있어서 분할하기 어려울 것 같음\n",
    "    candidate_pool_path = f'./retrieval_data/candidate_pool_url/{file_name}.jsonl' ## candidate pool 있는 경로로 변환\n",
    "    dialog_output_path = f'./sft_dialog_data/text_dialog/{file_name}.json'         ## dialog 경로로 변환\n",
    "\n",
    "    candidate_pool = []\n",
    "    with jsonlines.open(candidate_pool_path, 'r') as file:\n",
    "        for pool in file:\n",
    "            candidate_pool.append(pool)  # JSON 파일을 파싱\n",
    "            \n",
    "    sft_dialog = []\n",
    "    for row in candidate_pool:\n",
    "        sft_dialog.append([\n",
    "            {\"role\": \"system\", \"content\" : \"당신은 육군 스마트부대 상담사입니다. 다음 내용을 읽고 친절하게 답변할 수 있도록 합니다.\"}, ## 시스템 메세지 넣기\n",
    "            {\"role\":\"user\", \"content\":f\"{row['reference']}의 {row['url']}에 대해 그대로 읽어줘\"}, \n",
    "            {\"role\":\"assistant\", \"content\":f\"{row['reference']}의 {row['url']}에 대해 읽어드리겠습니다.\\n {row['text']}\"}\n",
    "        ])\n",
    "\n",
    "    with open(dialog_output_path, 'w', encoding='utf-8') as file:\n",
    "        json.dump(sft_dialog, file, ensure_ascii=False)\n",
    "\n",
    "\n",
    "# 모든 문서 적용시키기       \n",
    "for file_name in jsonl_file:\n",
    "    convert_cddpool_dialog(file_name)"
   ]
  },
  {
   "cell_type": "code",
   "execution_count": null,
   "metadata": {},
   "outputs": [],
   "source": []
  },
  {
   "cell_type": "code",
   "execution_count": 69,
   "metadata": {},
   "outputs": [],
   "source": [
    "all_files = os.listdir('.') ## qa데이터 정제 엑셀파일 폴더 경로\n",
    "excel_file = [os.path.splitext(file)[0] for file in all_files if file.endswith('.xlsx')] ## xlsx인 확장자만 불러와서 파일 명만 추출"
   ]
  },
  {
   "cell_type": "code",
   "execution_count": 93,
   "metadata": {},
   "outputs": [],
   "source": [
    "## 엑셀 파일 단위로 데이터 생성\n",
    "def convert_rag_dialog(excel_file_name):\n",
    "    ## 파일이 엑셀에 묶여있으니까 엑셀 파일 먼저\n",
    "    qa_file_path = '' + excel_file_name + '.xlsx' ## qa 정제 set 데이터 경로\n",
    "    \n",
    "    ## 엑셀 파일 내 시트 이름 리스트\n",
    "    xls = pd.ExcelFile(qa_file_path)\n",
    "    sheet_name_list = xls.sheet_names\n",
    "    \n",
    "    for sheet_nm in sheet_name_list:\n",
    "        \n",
    "        ## dialog 데이터 셋 데이터 경로\n",
    "        qa_output_path = f'./sft_dialog_data/rag_dialog/{sheet_nm}.json'\n",
    "        ## 파일 불러오기\n",
    "        qa_table = pd.read_excel(qa_file_path, sheet_name=sheet_nm)\n",
    "        \n",
    "        sft_dialog = []\n",
    "        for index, row in qa_table.iterrows():\n",
    "            idx = row['ori_text'].find(')') ## ) 기준으로 조항 이름과 내용 나누기\n",
    "            doc_idx = row['ori_text'][:idx+1].strip() ## 조항 이름\n",
    "            doc_cont = row['ori_text'][idx+1:].strip() ## 조항 본문\n",
    "            \n",
    "            ## user content 가 너무 길어서 따로 빼서 봄. 수정해도 됩니다.\n",
    "            user_content = f\"\"\"주어진 질문에 차근차근 생각하고 질문에 대한 답변을 해주세요.\n",
    "'제가 알고 있는 정보' 중 유효한 정보만을 선별하여, 내용 왜곡 없이 질문에 답변하세요. \n",
    "반드시 '제가 알고 있는 정보'만을 사용하여 답변하여야 합니다. \n",
    "질문에 대한 유효한 정보가 없다면 답변할 수 없다고 말해주세요.\n",
    "#제가 알고 있는 정보1:{doc_cont}\n",
    "#참조: {sheet_nm}의 {doc_idx}\n",
    "\n",
    "#질문: {row['question']}\n",
    "\n",
    "답변형식은 답변: [내용]을 유지하세요.\"\"\"\n",
    "            \n",
    "            sft_dialog.append([\n",
    "                {\"role\": \"system\", \"content\" : \"당신은 육군 스마트부대 상담사입니다. 다음 내용을 읽고 친절하게 답변할 수 있도록 합니다.\"}, ## 시스템 메세지 넣기\n",
    "                {\"role\":\"user\", \"content\": user_content}, ## 여기에 따로 넣어도 됨\n",
    "                {\"role\":\"assistant\", \"content\": row[\"answer\"]}\n",
    "            ])\n",
    "            \n",
    "        with open(qa_output_path, 'w', encoding='utf-8') as file:\n",
    "            json.dump(sft_dialog, file, ensure_ascii=False)"
   ]
  },
  {
   "cell_type": "code",
   "execution_count": 65,
   "metadata": {},
   "outputs": [],
   "source": [
    "# 모든 문서 적용시키기 (함수 하나씩만 써도 됨)     \n",
    "for file_name in jsonl_file:\n",
    "    convert_rag_dialog(file_name)"
   ]
  },
  {
   "cell_type": "code",
   "execution_count": 94,
   "metadata": {},
   "outputs": [],
   "source": [
    "convert_rag_dialog('output')"
   ]
  },
  {
   "cell_type": "code",
   "execution_count": null,
   "metadata": {},
   "outputs": [],
   "source": []
  },
  {
   "cell_type": "code",
   "execution_count": 72,
   "metadata": {},
   "outputs": [],
   "source": [
    "qa_table = pd.read_excel('output.xlsx')"
   ]
  },
  {
   "cell_type": "code",
   "execution_count": 76,
   "metadata": {},
   "outputs": [],
   "source": [
    "sample_text = qa_table.loc[0,'ori_text']"
   ]
  },
  {
   "cell_type": "code",
   "execution_count": 86,
   "metadata": {},
   "outputs": [],
   "source": [
    "sample_text = '제1장 총 칙 제1조(목 적) 이 규정은 육군의 인력정책 수립과 인력운영에 필요한 제대별 임무 및 책임의 (한계, 인력관리 업무수행)에 관한 제반 절차를 규정함을 목적으로 한다.'"
   ]
  },
  {
   "cell_type": "code",
   "execution_count": 87,
   "metadata": {},
   "outputs": [],
   "source": [
    "idx = sample_text.find(')')\n",
    "doc_idx = sample_text[:idx+1].strip()\n",
    "doc_cont = sample_text[idx+1:].strip()"
   ]
  },
  {
   "cell_type": "code",
   "execution_count": 88,
   "metadata": {},
   "outputs": [
    {
     "data": {
      "text/plain": [
       "'제1장 총 칙 제1조(목 적)'"
      ]
     },
     "execution_count": 88,
     "metadata": {},
     "output_type": "execute_result"
    }
   ],
   "source": [
    "doc_idx"
   ]
  }
 ],
 "metadata": {
  "kernelspec": {
   "display_name": "auto",
   "language": "python",
   "name": "python3"
  },
  "language_info": {
   "codemirror_mode": {
    "name": "ipython",
    "version": 3
   },
   "file_extension": ".py",
   "mimetype": "text/x-python",
   "name": "python",
   "nbconvert_exporter": "python",
   "pygments_lexer": "ipython3",
   "version": "3.7.12"
  }
 },
 "nbformat": 4,
 "nbformat_minor": 2
}
